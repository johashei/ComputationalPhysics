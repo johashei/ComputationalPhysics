{
 "cells": [
  {
   "cell_type": "code",
   "execution_count": 1,
   "metadata": {},
   "outputs": [],
   "source": [
    "import numpy as np\n",
    "import math as m\n",
    "import matplotlib.pyplot as plt\n",
    "%matplotlib inline\n",
    "from mpl_toolkits.mplot3d import Axes3D"
   ]
  },
  {
   "cell_type": "code",
   "execution_count": 2,
   "metadata": {},
   "outputs": [],
   "source": [
    "def plotter(x,y,z):\n",
    "    fig = plt.figure()\n",
    "    ax = fig.add_subplot(111, projection='3d')\n",
    "\n",
    "    ax.scatter(x,y,z,s=5)\n",
    "\n",
    "    ax.set_xlabel('AU x-axis')\n",
    "    ax.set_ylabel('AU y-axis')\n",
    "    ax.set_zlabel('AU z-axis')\n",
    "    \n",
    "    plt.tight_layout()"
   ]
  },
  {
   "cell_type": "code",
   "execution_count": 3,
   "metadata": {},
   "outputs": [],
   "source": [
    "def gravforcex(planet1, planet2):\n",
    "    x1 = planet1.x\n",
    "    y1 = planet1.y\n",
    "    z1 = planet1.z\n",
    "    x2 = planet2.x\n",
    "    y2 = planet2.y\n",
    "    z2 = planet2.z\n",
    "    rsep = ((x1-x2)**2+(y1-y2)**2+(z1-z2)**2)**(0.5)\n",
    "    return -4*m.pi**2*(x1-x2)*planet2.mass/(rsep)**3\n",
    "\n",
    "def gravforcey(planet1, planet2):\n",
    "    x1 = planet1.x\n",
    "    y1 = planet1.y\n",
    "    z1 = planet1.z\n",
    "    x2 = planet2.x\n",
    "    y2 = planet2.y\n",
    "    z2 = planet2.z\n",
    "    rsep = ((x1-x2)**2+(y1-y2)**2+(z1-z2)**2)**(0.5)\n",
    "    return -4*m.pi**2*(y1-y2)*planet2.mass/(rsep)**3\n",
    "\n",
    "def gravforcez(planet1, planet2):\n",
    "    x1 = planet1.x\n",
    "    y1 = planet1.y\n",
    "    z1 = planet1.z\n",
    "    x2 = planet2.x\n",
    "    y2 = planet2.y\n",
    "    z2 = planet2.z\n",
    "    rsep = ((x1-x2)**2+(y1-y2)**2+(z1-z2)**2)**(0.5)\n",
    "    return -4*m.pi**2*(x1-x2)*planet2.mass/(rsep)**3"
   ]
  },
  {
   "cell_type": "code",
   "execution_count": 4,
   "metadata": {},
   "outputs": [],
   "source": [
    "class makeplanet:\n",
    "     \n",
    "    def __init__(self, name,mass,x,y,z,vx,vy,vz):\n",
    "        self.name = name\n",
    "        self.x = x\n",
    "        self.y = y\n",
    "        self.z = z\n",
    "        self.vx = 365*vx\n",
    "        self.vy = 365*vy\n",
    "        self.vz = 365*vz\n",
    "        self.mass = mass\n",
    "           \n",
    "    def accx(self,x,y,z):\n",
    "        r = ((x)**2+(y)**2+(z)**2)**(0.5)\n",
    "        accx = -4*m.pi**2*x/(r**3)\n",
    "        return accx\n",
    "    \n",
    "    def accy(self,x,y,z):\n",
    "        r = ((x)**2+(y)**2+(z)**2)**(0.5)\n",
    "        accy = -4*m.pi**2*y/(r**3)\n",
    "        return accy\n",
    "    \n",
    "    def accz(self,x,y,z):\n",
    "        r = ((x)**2+(y)**2+(z)**2)**(0.5)\n",
    "        accz = -4*m.pi**2*z/(r**3)\n",
    "        return accz\n",
    "    \n",
    "    def movex(self,xnew):\n",
    "        self.x=xnew\n",
    "    def movey(self,ynew):\n",
    "        self.y=ynew\n",
    "    def movez(self,znew):\n",
    "        self.z=znew\n",
    "    \n",
    "    def movevx(self,vxnew):\n",
    "        self.vx=vxnew\n",
    "    def movevy(self,vynew):\n",
    "        self.vy=vynew\n",
    "    def movevz(self,vznew):\n",
    "        self.vz=vznew"
   ]
  },
  {
   "cell_type": "code",
   "execution_count": 5,
   "metadata": {},
   "outputs": [],
   "source": [
    "test = makeplanet(\"Test\", 1, 1,1,1,1,1,1)\n",
    "mercury = makeplanet(\"Mercury\",1.65E-07,2.80E-01,1.73E-01,-1.18E-02,-2.01E-02,2.53E-02,3.91E-03)\n",
    "venus = makeplanet(\"Venus\", 2.45E-06, -7.02E-01, 1.36E-01, 4.24E-02, -3.81E-03, -1.99E-02, -5.40E-05)\n",
    "earth = makeplanet(\"Earth\", 3.0E-06, -9.88E-01, 8.50E-02, -1.52E-04, -1.68E-03, -1.71E-02, 4.35E-07) \n",
    "mars = makeplanet(\"Mars\", 3.3E-07, 7.78E-01, 1.28, 7.56E-03, -1.14E-02, 8.47E-03, 4.58E-04)\n",
    "jupiter = makeplanet(\"Jupiter\", 0.00095, -5.23, -1.53, 1.23E-01,2.02E-3, -6.88E-03, -1.67E-05)\n",
    "saturn = makeplanet(\"Saturn\", 0.000275, -1.48,-9.93, 2.32E-01, 5.212E-03, -8.39E-04, -1.93E-04)\n",
    "uranus = makeplanet(\"Uranus\", 0.000044, 1.82E01, 8.08, -2.06E-01, -1.62E-03, 3.41E-03, 3.38E-05)\n",
    "neptune = makeplanet(\"Neptune\", 0.0000515, 2.84E01, -9.47, -4.60E-01,9.711E-04, 2.997E-03, -8.38E-05)\n",
    "pluto = makeplanet(\"Pluto\", 6.55E-09, 9.89, -3.18E01, 5.396E-01, 3.06E-03, 2.906E-04, -9.09E-04)"
   ]
  },
  {
   "cell_type": "code",
   "execution_count": 6,
   "metadata": {},
   "outputs": [
    {
     "name": "stdout",
     "output_type": "stream",
     "text": [
      "1\n",
      "-7.5976250103520755\n"
     ]
    }
   ],
   "source": [
    "print(test.x)\n",
    "print(test.accx(test.x,test.y, test.z))"
   ]
  },
  {
   "cell_type": "code",
   "execution_count": 7,
   "metadata": {},
   "outputs": [
    {
     "data": {
      "text/plain": [
       "2"
      ]
     },
     "execution_count": 7,
     "metadata": {},
     "output_type": "execute_result"
    }
   ],
   "source": [
    "#Functionality is working for changing the x coordinate\n",
    "test.movex(2)\n",
    "test.x"
   ]
  },
  {
   "cell_type": "code",
   "execution_count": 8,
   "metadata": {},
   "outputs": [
    {
     "data": {
      "text/plain": [
       "-5.372332165732466"
      ]
     },
     "execution_count": 8,
     "metadata": {},
     "output_type": "execute_result"
    }
   ],
   "source": [
    "test.accx(test.x,test.y, test.z)"
   ]
  },
  {
   "cell_type": "code",
   "execution_count": 9,
   "metadata": {},
   "outputs": [
    {
     "data": {
      "text/plain": [
       "-2.686166082866233"
      ]
     },
     "execution_count": 9,
     "metadata": {},
     "output_type": "execute_result"
    }
   ],
   "source": [
    "test.accy(test.x,test.y, test.z)"
   ]
  },
  {
   "cell_type": "code",
   "execution_count": 10,
   "metadata": {},
   "outputs": [
    {
     "data": {
      "text/plain": [
       "-2.686166082866233"
      ]
     },
     "execution_count": 10,
     "metadata": {},
     "output_type": "execute_result"
    }
   ],
   "source": [
    "test.accz(test.x,test.y, test.z)"
   ]
  },
  {
   "cell_type": "code",
   "execution_count": 11,
   "metadata": {},
   "outputs": [
    {
     "data": {
      "text/plain": [
       "-2.260939482359547"
      ]
     },
     "execution_count": 11,
     "metadata": {},
     "output_type": "execute_result"
    }
   ],
   "source": [
    "test.movez(3)\n",
    "test.accz(test.x,test.y, test.z)"
   ]
  },
  {
   "cell_type": "code",
   "execution_count": 12,
   "metadata": {},
   "outputs": [],
   "source": [
    "def buildaccx(planet, list_of_planets):\n",
    "    accel_x = planet.accx(planet.x, planet.y, planet.z)\n",
    "    for i in list_of_planets:\n",
    "        if i.name!=planet.name:\n",
    "            #print(i.name)\n",
    "            accel_x += gravforcex(planet, i)\n",
    "    return accel_x\n",
    "\n",
    "def buildaccy(planet, list_of_planets):\n",
    "    accel_y = planet.accy(planet.x, planet.y, planet.z)\n",
    "    for i in list_of_planets:\n",
    "        if i.name!=planet.name:\n",
    "            accel_y += gravforcey(planet, i)\n",
    "    return accel_y\n",
    "\n",
    "def buildaccz(planet, list_of_planets):\n",
    "    accel_z = planet.accz(planet.x, planet.y, planet.z)\n",
    "    for i in list_of_planets:\n",
    "        if i.name!=planet.name:\n",
    "            accel_z += gravforcez(planet, i)\n",
    "    return accel_z"
   ]
  },
  {
   "cell_type": "code",
   "execution_count": 13,
   "metadata": {},
   "outputs": [
    {
     "data": {
      "text/plain": [
       "-0.988"
      ]
     },
     "execution_count": 13,
     "metadata": {},
     "output_type": "execute_result"
    }
   ],
   "source": [
    "earth.x"
   ]
  },
  {
   "cell_type": "code",
   "execution_count": 14,
   "metadata": {},
   "outputs": [
    {
     "data": {
      "text/plain": [
       "39.99833339111919"
      ]
     },
     "execution_count": 14,
     "metadata": {},
     "output_type": "execute_result"
    }
   ],
   "source": [
    "earth.accx(earth.x, earth.y, earth.z)"
   ]
  },
  {
   "cell_type": "code",
   "execution_count": 15,
   "metadata": {},
   "outputs": [],
   "source": [
    "planets = [mercury, venus, earth, mars, jupiter, saturn, uranus, neptune, pluto]"
   ]
  },
  {
   "cell_type": "code",
   "execution_count": 16,
   "metadata": {},
   "outputs": [
    {
     "data": {
      "text/plain": [
       "39.99773374665994"
      ]
     },
     "execution_count": 16,
     "metadata": {},
     "output_type": "execute_result"
    }
   ],
   "source": [
    "#Just testing a function to make sure that the x acceleration makes sense\n",
    "buildaccx(earth, planets)"
   ]
  },
  {
   "cell_type": "code",
   "execution_count": 17,
   "metadata": {},
   "outputs": [
    {
     "data": {
      "text/plain": [
       "-3.4417092456222957"
      ]
     },
     "execution_count": 17,
     "metadata": {},
     "output_type": "execute_result"
    }
   ],
   "source": [
    "buildaccy(earth,planets)"
   ]
  },
  {
   "cell_type": "code",
   "execution_count": 18,
   "metadata": {},
   "outputs": [],
   "source": [
    "def coorx(xi, h,vxi, axi):\n",
    "    return xi + h*vxi+h**2*axi/2\n",
    "\n",
    "def velx(vxi, h, ax_i_1,ax_i):\n",
    "    return vxi + (h/2)*(ax_i_1+ax_i)\n",
    "\n",
    "def coory(yi, h,vyi, ayi):\n",
    "    return yi + h*vyi+h**2*ayi/2\n",
    "\n",
    "def vely(vyi, h, ay_i_1,ay_i):\n",
    "    return vyi + (h/2)*(ay_i_1+ay_i)\n",
    "\n",
    "def coorz(zi, h,vzi, azi):\n",
    "    return zi + h*vzi+h**2*azi/2\n",
    "\n",
    "def velz(vzi, h, az_i_1,az_i):\n",
    "    return vzi + (h/2)*(az_i_1+az_i)"
   ]
  },
  {
   "cell_type": "code",
   "execution_count": 19,
   "metadata": {},
   "outputs": [],
   "source": [
    "planets = [mercury, venus, earth, mars, jupiter, saturn, uranus, neptune, pluto]\n",
    "def solar_system(time):\n",
    "    #The number of years we want to loop over, 10 years for this test\n",
    "    h = 1/365 #The step size, defined as one day\n",
    "    n = int(time/h) #The total numbers of iterations\n",
    "\n",
    "    all_x =[]\n",
    "    all_y = []\n",
    "    all_z = []\n",
    "\n",
    "\n",
    "    for obj in planets:\n",
    "        coordinatesx = np.zeros(n+1) \n",
    "        coordinatesy = np.zeros(n+1) \n",
    "        coordinatesz = np.zeros(n+1) \n",
    "        velocitiesx = np.zeros(n+1) \n",
    "        velocitiesy = np.zeros(n+1) \n",
    "        velocitiesz = np.zeros(n+1) \n",
    "\n",
    "        coordinatesx[0] = obj.x\n",
    "        coordinatesy[0] = obj.y\n",
    "        coordinatesz[0] = obj.z\n",
    "\n",
    "        velocitiesx[0] = obj.vx\n",
    "        velocitiesy[0] = obj.vy\n",
    "        velocitiesz[0] = obj.vz\n",
    "\n",
    "        for j in range(n):\n",
    "            x_j = coordinatesx[j]\n",
    "            vx_j = velocitiesx[j]\n",
    "            y_j = coordinatesy[j]\n",
    "            vy_j = velocitiesy[j]\n",
    "            z_j = coordinatesz[j]\n",
    "            vz_j = velocitiesz[j]\n",
    "\n",
    "            ax_j = buildaccx(obj, planets)\n",
    "            ay_j = buildaccy(obj, planets)\n",
    "            az_j = buildaccz(obj, planets)\n",
    "\n",
    "            x_j_1 = coorx(x_j, h,vx_j,ax_j)\n",
    "            y_j_1 = coory(y_j, h,vy_j,ay_j)\n",
    "            z_j_1 = coorz(z_j, h,vz_j,az_j)\n",
    "\n",
    "            coordinatesx[j+1] = x_j_1\n",
    "            coordinatesy[j+1] = y_j_1\n",
    "            coordinatesz[j+1] = z_j_1\n",
    "\n",
    "            obj.movex(x_j_1)\n",
    "            obj.movey(y_j_1)\n",
    "            obj.movez(z_j_1)\n",
    "\n",
    "            ax_j_1 = buildaccx(obj, planets)\n",
    "            ay_j_1 = buildaccy(obj, planets)\n",
    "            az_j_1 = buildaccz(obj, planets)\n",
    "\n",
    "            vx_j_1 = velx(vx_j,h,ax_j_1,ax_j)\n",
    "            vy_j_1 = vely(vy_j,h,ay_j_1,ay_j)\n",
    "            vz_j_1 = velz(vz_j,h,az_j_1,az_j)\n",
    "\n",
    "            velocitiesy[j+1] = vy_j_1\n",
    "            velocitiesx[j+1] = vx_j_1\n",
    "            velocitiesz[j+1] = vz_j_1\n",
    "\n",
    "            obj.movevx(vx_j_1)\n",
    "            obj.movevy(vy_j_1)  \n",
    "            obj.movevz(vz_j_1)\n",
    "\n",
    "        all_x.append(coordinatesx)\n",
    "        all_y.append(coordinatesy)\n",
    "        all_z.append(coordinatesz)\n",
    "\n",
    "        print(obj.name, \"is done!\")\n",
    "    plotter(all_x, all_y, all_z)"
   ]
  },
  {
   "cell_type": "code",
   "execution_count": 20,
   "metadata": {},
   "outputs": [
    {
     "name": "stdout",
     "output_type": "stream",
     "text": [
      "Mercury is done!\n",
      "Venus is done!\n",
      "Earth is done!\n",
      "Mars is done!\n",
      "Jupiter is done!\n",
      "Saturn is done!\n",
      "Uranus is done!\n",
      "Neptune is done!\n",
      "Pluto is done!\n"
     ]
    },
    {
     "data": {
      "image/png": "[encoded data removed]",
      "text/plain": [
       "<Figure size 432x288 with 1 Axes>"
      ]
     },
     "metadata": {
      "needs_background": "light"
     },
     "output_type": "display_data"
    }
   ],
   "source": [
    "solar_system(250)"
   ]
  },
  {
   "cell_type": "code",
   "execution_count": null,
   "metadata": {
    "collapsed": true
   },
   "outputs": [],
   "source": []
  }
 ],
 "metadata": {
  "anaconda-cloud": {},
  "kernelspec": {
   "display_name": "Python 3",
   "language": "python",
   "name": "python3"
  },
  "language_info": {
   "codemirror_mode": {
    "name": "ipython",
    "version": 3
   },
   "file_extension": ".py",
   "mimetype": "text/x-python",
   "name": "python",
   "nbconvert_exporter": "python",
   "pygments_lexer": "ipython3",
   "version": "3.6.8"
  }
 },
 "nbformat": 4,
 "nbformat_minor": 1
}
