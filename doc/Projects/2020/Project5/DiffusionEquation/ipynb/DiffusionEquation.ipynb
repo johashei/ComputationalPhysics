{
 "cells": [
  {
   "cell_type": "markdown",
   "metadata": {},
   "source": [
    "<!-- dom:TITLE: Project 5, deadline  December 16, 2020 -->\n",
    "# Project 5, deadline  December 16, 2020\n",
    "<!-- dom:AUTHOR: Partial Differential equations -->\n",
    "<!-- Author: -->  \n",
    "**Partial Differential equations**\n",
    "\n",
    "Date: **Fall semester 2020**\n",
    "\n",
    "## Theoretical background and description of the system\n",
    "\n",
    "This project is more numerically directed, with tests\n",
    "of algorithms for solving partial differential equations using finite difference schemes. \n",
    "Chapter 10 of the lecture notes provides the necessary theoretical background.\n",
    "\n",
    "**For this project you can collaborate with fellow students and you can  hand in a common report.**\n",
    "This project (together with projects 3 and 4) counts 1/3 of the final mark.\n",
    "\n",
    "The project has a strong mathematical axis. However, for those interested, it should be straightforward to replace the dimensionless analysis in  parts 5a-5f) with specific boundary and initial conditions. This is done in part 5g), with a focus on the heat equation and geophysical processes. That part is optional, but gives an additional 30 points to a score of 100.\n",
    "\n",
    "The physical problem can be that of the temperature gradient in a rod of length $L=1$ or that of channel flow\n",
    "between two flat and infinite plates at $x=0$ and $x=1$, where the fluid is initially at rest\n",
    "and the plate $x=1$ is given a sudden initial movement.  We are looking at a one-dimensional\n",
    "problem"
   ]
  },
  {
   "cell_type": "markdown",
   "metadata": {},
   "source": [
    "$$\n",
    "\\frac{\\partial^2 u(x,t)}{\\partial x^2} =\\frac{\\partial u(x,t)}{\\partial t}, t> 0, x\\in [0,L]\n",
    "$$"
   ]
  },
  {
   "cell_type": "markdown",
   "metadata": {},
   "source": [
    "or"
   ]
  },
  {
   "cell_type": "markdown",
   "metadata": {},
   "source": [
    "$$\n",
    "u_{xx} = u_t,\n",
    "$$"
   ]
  },
  {
   "cell_type": "markdown",
   "metadata": {},
   "source": [
    "with initial conditions, i.e., the conditions at $t=0$,"
   ]
  },
  {
   "cell_type": "markdown",
   "metadata": {},
   "source": [
    "$$\n",
    "u(x,0)= 0 \\hspace{0.5cm} 0 < x < L\n",
    "$$"
   ]
  },
  {
   "cell_type": "markdown",
   "metadata": {},
   "source": [
    "with $L=1$ the length of the $x$-region of interest. The \n",
    "boundary conditions are"
   ]
  },
  {
   "cell_type": "markdown",
   "metadata": {},
   "source": [
    "$$\n",
    "u(0,t)= 0 \\hspace{0.5cm} t \\ge 0,\n",
    "$$"
   ]
  },
  {
   "cell_type": "markdown",
   "metadata": {},
   "source": [
    "and"
   ]
  },
  {
   "cell_type": "markdown",
   "metadata": {},
   "source": [
    "$$\n",
    "u(L,t)= 1 \\hspace{0.5cm} t \\ge 0.\n",
    "$$"
   ]
  },
  {
   "cell_type": "markdown",
   "metadata": {},
   "source": [
    "The function $u(x,t)$  can be the temperature gradient of a  rod or represent the fluid velocity \n",
    "in a direction parallel to the plates, that is normal to the $x$-axis. In the latter case, \n",
    "for small $t$, only the part of the fluid\n",
    "close to the moving plate is set in significant  motion, resulting in a thin boundary layer at $x=1$. \n",
    "As time increases, the velocity approaches a linear variation with $x$. In this case, which can be derived\n",
    "from the incompressible Navier-Stokes, the above equations constitute a model for  \n",
    "studying friction between moving surfaces separated by a thin fluid film.\n",
    "\n",
    "In this project we want to study the numerical stability of three methods for partial differential equations\n",
    "(PDEs). \n",
    "These methods we will discuss are\n",
    "the explicit forward Euler algorithm with discretized versions of time given by a forward formula and a centered difference in space resulting in"
   ]
  },
  {
   "cell_type": "markdown",
   "metadata": {},
   "source": [
    "$$\n",
    "u_t\\approx \\frac{u(x,t+\\Delta t)-u(x,t)}{\\Delta t}=\\frac{u(x_i,t_j+\\Delta t)-u(x_i,t_j)}{\\Delta t}\n",
    "$$"
   ]
  },
  {
   "cell_type": "markdown",
   "metadata": {},
   "source": [
    "and"
   ]
  },
  {
   "cell_type": "markdown",
   "metadata": {},
   "source": [
    "$$\n",
    "u_{xx}\\approx \\frac{u(x+\\Delta x,t)-2u(x,t)+u(x-\\Delta x,t)}{\\Delta x^2},\n",
    "$$"
   ]
  },
  {
   "cell_type": "markdown",
   "metadata": {},
   "source": [
    "or"
   ]
  },
  {
   "cell_type": "markdown",
   "metadata": {},
   "source": [
    "$$\n",
    "u_{xx}\\approx \\frac{u(x_i+\\Delta x,t_j)-2u(x_i,t_j)+u(x_i-\\Delta x,t_j)}{\\Delta x^2}.\n",
    "$$"
   ]
  },
  {
   "cell_type": "markdown",
   "metadata": {},
   "source": [
    "We will also discuss the implicit Backward Euler with"
   ]
  },
  {
   "cell_type": "markdown",
   "metadata": {},
   "source": [
    "$$\n",
    "u_t\\approx \\frac{u(x,t)-u(x,t-\\Delta t)}{\\Delta t}=\\frac{u(x_i,t_j)-u(x_i,t_j-\\Delta t)}{\\Delta t}\n",
    "$$"
   ]
  },
  {
   "cell_type": "markdown",
   "metadata": {},
   "source": [
    "and"
   ]
  },
  {
   "cell_type": "markdown",
   "metadata": {},
   "source": [
    "$$\n",
    "u_{xx}\\approx \\frac{u(x+\\Delta x,t)-2u(x,t)+u(x-\\Delta x,t)}{\\Delta x^2},\n",
    "$$"
   ]
  },
  {
   "cell_type": "markdown",
   "metadata": {},
   "source": [
    "or"
   ]
  },
  {
   "cell_type": "markdown",
   "metadata": {},
   "source": [
    "$$\n",
    "u_{xx}\\approx \\frac{u(x_i+\\Delta x,t_j)-2u(x_i,t_j)+u(x_i-\\Delta x,t_j)}{\\Delta x^2},\n",
    "$$"
   ]
  },
  {
   "cell_type": "markdown",
   "metadata": {},
   "source": [
    "Finally we use the implicit Crank-Nicolson scheme with  a time-centered scheme at $(x,t+\\Delta t/2)$"
   ]
  },
  {
   "cell_type": "markdown",
   "metadata": {},
   "source": [
    "$$\n",
    "u_t\\approx \\frac{u(x,t+\\Delta t)-u(x,t)}{\\Delta t}=\\frac{u(x_i,t_j+\\Delta t)-u(x_i,t_j)}{\\Delta t}.\n",
    "$$"
   ]
  },
  {
   "cell_type": "markdown",
   "metadata": {},
   "source": [
    "The corresponding spatial second-order derivative reads"
   ]
  },
  {
   "cell_type": "markdown",
   "metadata": {},
   "source": [
    "$$\n",
    "\\begin{align*}\n",
    "u_{xx}\\approx &\\frac{1}{2}\\left(\\frac{u(x_i+\\Delta x,t_j)-2u(x_i,t_j)+u(x_i-\\Delta x,t_j)}{\\Delta x^2}\\right. +\\\\\n",
    "&\\left. \\frac{u(x_i+\\Delta x,t_j+\\Delta t)-2u(x_i,t_j+\\Delta t)+u(x_i-\\Delta x,t_j+\\Delta t)}{\\Delta x^2}\\right).\n",
    "\\end{align*}\n",
    "$$"
   ]
  },
  {
   "cell_type": "markdown",
   "metadata": {},
   "source": [
    "Note well that we are using a time-centered scheme wih $t+\\Delta t/2$ as center.\n",
    "\n",
    "\n",
    "\n",
    "### Project 5a): Setting up the algorithms\n",
    "\n",
    "Write down the algorithms for these three methods and the equations you need to implement.\n",
    "For the implicit schemes show that the equations lead to a tridiagonal matrix system for the new values.\n",
    "\n",
    "### Project 5b): Truncation errors and analytic solutions\n",
    "\n",
    "Find the truncation errors of these three schemes and investigate their stability properties.\n",
    "Find also the analytic solution to the continuous problem. \n",
    "\n",
    "### Project 5c): Implementation\n",
    "\n",
    "Implement the three algorithms in the same code and perform tests of the solution \n",
    "for these three approaches\n",
    "for $\\Delta x=1/10$, $\\Delta x=1/100$ using  $\\Delta t$ as dictated by the stability limit of the explicit scheme.\n",
    "Study the solutions at two time points $t_1$ and $t_2$ where $u(x,t_1)$ is smooth but still significantly curved\n",
    "and $u(x,t_2)$ is almost linear, close to the stationary state.\n",
    "Remember that forsolving the tridiagonal equations you can use your code from project 1.  \n",
    "### Project 5d):\n",
    "\n",
    "Compare the solutions at $t_1$ and $t_2$ with the analytic result for the continuous problem.\n",
    "Which of the schemes would you classify as the best?\n",
    "\n",
    "### Project 5e): Moving to two dimensions\n",
    "\n",
    "Extend the code you have developed here to two\n",
    "  dimensions. \n",
    "It means that we deal with a $2+1$ dimensional problem. Our differential equation becomes"
   ]
  },
  {
   "cell_type": "markdown",
   "metadata": {},
   "source": [
    "$$\n",
    "\\frac{\\partial^2 u(x,y,t)}{\\partial x^2}+\\frac{\\partial^2 u(x,y,t)}{\\partial y^2} =\\frac{\\partial u(x,y,t)}{\\partial t}, t> 0, x,y\\in [0,1],\n",
    "$$"
   ]
  },
  {
   "cell_type": "markdown",
   "metadata": {},
   "source": [
    "where we now have made a model with a square lattice for $x$ and $y$. \n",
    "How would you extend the boundary conditions from one dimension to two dimensions? And can you\n",
    "  find a closed form solution here as well?  It is left to you to decide upon what kind of boundary conditions\n",
    "you deem appropriate.\n",
    "### Project 5f): Solving the two-dimensional equations numerically\n",
    "\n",
    "Here you can choose between an explicit or an implicit scheme. \n",
    "For the implicit scheme discussed in chapter 10 of the lecture notes, you need to use for example an iterative method like Jacobi's.\n",
    "\n",
    "Outline the algorithm for solving the two-dimensional diffusion equation and \n",
    "implement the explicit or the implicit scheme as function of $\\Delta x$ (assuming\n",
    "$\\Delta x = \\Delta y$) and $\\Delta t$. Solve the equations numerically and give a critical discussion of your results. \n",
    "Compare your results with the closed-form answer. Discuss the stability\n",
    "of the solution as function of different values of $\\Delta x$  and $\\Delta t$. \n",
    "\n",
    "You should, if you have time, try to  parallelize the equations using MPI or OpenMP. \n",
    "\n",
    "\n",
    "### Project 5g) Temperature distribution in the lithosphere (this part is optional and gives an additional score of 30 points)\n",
    "\n",
    "The Scientific background is  based on geological evidence at the surface. Geologists have proposed\n",
    "that there was an active subduction zone on the western coast of\n",
    "Norway about 1Gy ago. When subducting, the oceanic lithosphere\n",
    "releases water and other chemical components that go mostly to the\n",
    "surface but may also be trapped in the mantle above the subducting\n",
    "slab. This process is called the refertilization of the mantle wedge\n",
    "(see Figure). These chemical components contain more radioactive\n",
    "elements than the normal mantle. We can therefore expect that ancient\n",
    "mantle wedges are enriched in radioactive elements and therefore\n",
    "warmer than normal mantle. The question is how much warmer they are\n",
    "and if we can find evidence for this enrichment in geophysical\n",
    "studies.\n",
    "<!-- dom:FIGURE: [figslides/slab.jpg, width=500 frac=0.6] Cartoon of the enrichment of the mantle by a subduction slab. -->\n",
    "<!-- begin figure -->\n",
    "\n",
    "<p>Cartoon of the enrichment of the mantle by a subduction slab.</p>\n",
    "<img src=\"figslides/slab.jpg\" width=500>\n",
    "\n",
    "<!-- end figure -->\n",
    "\n",
    "\n",
    "The purpose of this part is to \n",
    "calculate the thermal evolution of the lithosphere up to present following the emplacement of radioactive elements in the mantle wedge 1 Gy ago.\n",
    "\n",
    "The equation to compute is the time evolution of the temperature distribution is the heat equation, which will be used only in 2D here, namely"
   ]
  },
  {
   "cell_type": "markdown",
   "metadata": {},
   "source": [
    "<!-- Equation labels as ordinary links -->\n",
    "<div id=\"eq:heat2D\"></div>\n",
    "\n",
    "$$\n",
    "\\begin{equation}\n",
    "\\vec \\nabla(k \\vec \\nabla T) + Q = \\rho c_p \\frac{\\partial T}{\\partial t} \n",
    "\\label{eq:heat2D} \\tag{1}\n",
    "\\end{equation}\n",
    "$$"
   ]
  },
  {
   "cell_type": "markdown",
   "metadata": {},
   "source": [
    "where $T$ is the temperature, $\\rho$ is the density, $k$ is the thermal conductivity, $c_p$ is the specific heat capacity and $Q$ is the heat production.\n",
    "\n",
    "With the boundary conditions and initial conditions, you should rescale your equations in order to use the results from parts 5a-5f). The paramaters of the model are described here.\n",
    "\n",
    "### Parameters of the model\n",
    "\n",
    "The boundary conditions are $8^{\\circ}\\,C$ at the surface and $1300^{\\circ}C$ at the bottom at a depth of 120 km.\n",
    "\n",
    "In this study, we assume a constant density for the lithosphere of $3.5 10^3\\,Kg/m^3$,\n",
    "a constant thermal conductivity of $2.5\\,W/m/^{\\circ}C$\n",
    "and a constant specific heat capacity of $1000\\,J/Kg/^{\\circ}C^{-1}$.\n",
    "\n",
    "The heat production, caused by radioactive decay, cannot be taken as uniform in the whole lithosphere as radioactive elements are much more abundant in the crust than in the mantle.\n",
    "We need therefore to separate the lithosphere in 3 units: the upper crust from 0 to 20 km depth, the lower crust from 20 to 40 km depth and the mantle from 40 to 120 km depth, where the heat production is set respectively to $1.4\\,\\mu W/m^3$, $0.35\\,\\mu W/m^3$ and $0.05\\,\\mu W/m^3$. \n",
    "\n",
    "### Temperature distribution before radioactive enrichment\n",
    "\n",
    "Before radioactive enrichment, the temperature is steady-state and depends only on depth. In order to test your results you should\n",
    "try to obtain analytical results for  the temperature profile as function of depth neglecting the presence of radioactice sources and. Compare thereafter these results with your numerical results.  Include then the radioactive sources and compare eventual analytical results with numerical calculations.\n",
    "\n",
    "### Temperature distribution after radioactive enrichment\n",
    "\n",
    "We assume that the lithosphere above the slab gets enriched in\n",
    "radioactive elements U, Th and K 1 Gy ago and that this results in an\n",
    "additional heat production of $0.5\\mu W/m^3$ over the whole depth of\n",
    "the mantle (not the crust) in a 150 km wide area above the\n",
    "slab. Neglecting all other thermal perturbations that this slab could\n",
    "produce, and assuming that the heat production will remain constant\n",
    "over geological time, compute the thermal evolution of the lithosphere\n",
    "from 1 Gy to present.\n",
    "\n",
    "The radioactivity will decrease with time. Assuming that the\n",
    "additional heat is produced at 40% by U, 40% by Th and 20% by K,\n",
    "which have halflives of 4.47 Gy, 14.0 Gy and 1.25 Gy respectively,\n",
    "compute the thermal evolution of the lithosphere and compare with the\n",
    "result obtained above.\n",
    "\n",
    "\n",
    "\n",
    "\n",
    "\n",
    "\n",
    "### References\n",
    "\n",
    "A very good reference is the textbook by [Winther and Tveito on partial differential equations](http://www.springer.com/us/book/9783540225515). It is available online [from the University library](https://vpn2.uio.no/+CSCO+0h756767633A2F2F797661782E66636576617472652E70627A++/book/10.1007/b138016/page/1).\n",
    "\n",
    "\n",
    "## Introduction to numerical projects\n",
    "\n",
    "Here follows a brief recipe and recommendation on how to write a report for each\n",
    "project.\n",
    "\n",
    "  * Give a short description of the nature of the problem and the eventual  numerical methods you have used.\n",
    "\n",
    "  * Describe the algorithm you have used and/or developed. Here you may find it convenient to use pseudocoding. In many cases you can describe the algorithm in the program itself.\n",
    "\n",
    "  * Include the source code of your program. Comment your program properly.\n",
    "\n",
    "  * If possible, try to find analytic solutions, or known limits in order to test your program when developing the code.\n",
    "\n",
    "  * Include your results either in figure form or in a table. Remember to        label your results. All tables and figures should have relevant captions        and labels on the axes.\n",
    "\n",
    "  * Try to evaluate the reliabilty and numerical stability/precision of your results. If possible, include a qualitative and/or quantitative discussion of the numerical stability, eventual loss of precision etc.\n",
    "\n",
    "  * Try to give an interpretation of you results in your answers to  the problems.\n",
    "\n",
    "  * Critique: if possible include your comments and reflections about the  exercise, whether you felt you learnt something, ideas for improvements and  other thoughts you've made when solving the exercise. We wish to keep this course at the interactive level and your comments can help us improve it.\n",
    "\n",
    "  * Try to establish a practice where you log your work at the  computerlab. You may find such a logbook very handy at later stages in your work, especially when you don't properly remember  what a previous test version  of your program did. Here you could also record  the time spent on solving the exercise, various algorithms you may have tested or other topics which you feel worthy of mentioning.\n",
    "\n",
    "## Format for electronic delivery of report and programs\n",
    "\n",
    "The preferred format for the report is a PDF file. You can also use DOC or postscript formats or as an ipython notebook file.  As programming language we prefer that you choose between C/C++, Fortran2008 or Python. The following prescription should be followed when preparing the report:\n",
    "\n",
    "  * Use **Canvas** to hand in your projects, log in  at  <https://www.uio.no/english/services/it/education/canvas/> with your normal UiO username and password.\n",
    "\n",
    "  * Upload **only** the report file!  For the source code file(s) you have developed please provide us with your link to your github domain.  The report file should include all of your discussions and a list of the codes you have developed.  Do not include library files which are available at the course homepage, unless you have made specific changes to them. Alternatively, you can just upload the address to your GitHub or GitLab repository.\n",
    "\n",
    "  * In your git repository, please include a folder which contains selected results. These can be in the form of output from your code for a selected set of runs and input parameters.\n",
    "\n",
    "  * In this and all later projects, you should include tests (for example unit tests) of your code(s).\n",
    "\n",
    "  * Comments  from us on your projects, approval or not, corrections to be made  etc can be found under your **Canvas** domain and are only visible to you and the teachers of the course.\n",
    "\n",
    "Finally, \n",
    "we encourage you to work two and two together. Optimal working groups consist of \n",
    "2-3 students. You can then hand in a common report."
   ]
  }
 ],
 "metadata": {},
 "nbformat": 4,
 "nbformat_minor": 4
}
