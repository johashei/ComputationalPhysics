{
 "cells": [
  {
   "cell_type": "markdown",
   "metadata": {},
   "source": [
    "<!-- dom:TITLE: Project 5, deadline  December 16, 2020 -->\n",
    "# Project 5, deadline  December 16, 2020\n",
    "<!-- dom:AUTHOR: The Rossby wave equation in a basin -->\n",
    "<!-- Author: -->  \n",
    "**The Rossby wave equation in a basin**\n",
    "\n",
    "Date: **Fall semester 2020**\n",
    "\n",
    "**For this project you can collaborate with fellow students and you can  hand in a common report.**\n",
    "This project (together with projects 3 and 4) counts 1/3 of the final mark.\n",
    "\n",
    "\n",
    "## Theoretical background and description of the system\n",
    "\n",
    "Large scale, time-dependent motion in the atmosphere and ocean is\n",
    "often conceptualized in terms of *Rossby waves*, which have scales\n",
    "of hundreds to thousands of kilometers. The waves are used, for\n",
    "example, to understand the meandering of the atmospheric Jet Stream\n",
    "and the adjustment of the ocean to changes in wind forcing. Rossby\n",
    "waves exist because of the Coriolis acceleration, which acts\n",
    "perpendicular to the velocity of a fluid parcel. The Coriolis\n",
    "acceleration varies with latitude, being negative in the Southern\n",
    "Hemisphere and positive in the Northern (and vanishes at the equator).\n",
    "As a result of this variation, fluid parcels experience a change in\n",
    "their spin or *vorticity* if they move to different latitudes.\n",
    "\n",
    "We will use the shorthand notations"
   ]
  },
  {
   "cell_type": "markdown",
   "metadata": {},
   "source": [
    "0\n",
    " \n",
    "<\n",
    "<\n",
    "<\n",
    "!\n",
    "!\n",
    "M\n",
    "A\n",
    "T\n",
    "H\n",
    "_\n",
    "B\n",
    "L\n",
    "O\n",
    "C\n",
    "K"
   ]
  },
  {
   "cell_type": "markdown",
   "metadata": {},
   "source": [
    "1\n",
    " \n",
    "<\n",
    "<\n",
    "<\n",
    "!\n",
    "!\n",
    "M\n",
    "A\n",
    "T\n",
    "H\n",
    "_\n",
    "B\n",
    "L\n",
    "O\n",
    "C\n",
    "K"
   ]
  },
  {
   "cell_type": "markdown",
   "metadata": {},
   "source": [
    "$$\n",
    "\\partial_{xx} = \\frac{\\partial^2 }{\\partial x^2}\n",
    "$$"
   ]
  },
  {
   "cell_type": "markdown",
   "metadata": {},
   "source": [
    "etc. \n",
    "\n",
    "The equation governing the vorticity is:"
   ]
  },
  {
   "cell_type": "markdown",
   "metadata": {},
   "source": [
    "<!-- Equation labels as ordinary links -->\n",
    "<div id=\"eq:Rossby1\"></div>\n",
    "\n",
    "$$\n",
    "\\begin{equation}\n",
    "\\label{eq:Rossby1} \\tag{1}\n",
    "   \\partial_t \\zeta  + \\beta \\partial_x\\psi = 0.\n",
    " \\end{equation}\n",
    "$$"
   ]
  },
  {
   "cell_type": "markdown",
   "metadata": {},
   "source": [
    "where $\\zeta$ is the vorticity and $\\psi$ is the streamfunction, which determines the velocities:"
   ]
  },
  {
   "cell_type": "markdown",
   "metadata": {},
   "source": [
    "<!-- Equation labels as ordinary links -->\n",
    "<div id=\"_auto1\"></div>\n",
    "\n",
    "$$\n",
    "\\begin{equation}\n",
    "\tu = -\\partial_y \\psi \\quad,\\quad v = \\partial_x \\psi,\n",
    "\\label{_auto1} \\tag{2}\n",
    "\\end{equation}\n",
    "$$"
   ]
  },
  {
   "cell_type": "markdown",
   "metadata": {},
   "source": [
    "Here $u$ is the velocity component in the east-west direction ($x$)\n",
    "and $v$ in the north-south direction ($y$). The vorticity is\n",
    "defined:"
   ]
  },
  {
   "cell_type": "markdown",
   "metadata": {},
   "source": [
    "<!-- Equation labels as ordinary links -->\n",
    "<div id=\"eq:Rossby2\"></div>\n",
    "\n",
    "$$\n",
    "\\begin{equation}\n",
    "\\label{eq:Rossby2} \\tag{3}\n",
    "\t\\zeta = \\partial_x v -\\partial_y u = \\nabla_H^2 \\psi.\n",
    "\\end{equation}\n",
    "$$"
   ]
  },
  {
   "cell_type": "markdown",
   "metadata": {},
   "source": [
    "Thus the vorticity is the Laplacian of the streamfunction. \n",
    "\n",
    "Then there is the Coriolis parameter, defined as:"
   ]
  },
  {
   "cell_type": "markdown",
   "metadata": {},
   "source": [
    "<!-- Equation labels as ordinary links -->\n",
    "<div id=\"_auto2\"></div>\n",
    "\n",
    "$$\n",
    "\\begin{equation}\n",
    "f = 2 \\Omega \\sin{(\\theta)}\n",
    "\\label{_auto2} \\tag{4}\n",
    "\\end{equation}\n",
    "$$"
   ]
  },
  {
   "cell_type": "markdown",
   "metadata": {},
   "source": [
    "where $\\theta$ is the latitude and $\\Omega$ is the rotation\n",
    "rate of the Earth, $\\Omega=2 \\pi/day$. We often approximate\n",
    "$f$ as a linear function, centered on a latitude $\\theta_0$:"
   ]
  },
  {
   "cell_type": "markdown",
   "metadata": {},
   "source": [
    "<!-- Equation labels as ordinary links -->\n",
    "<div id=\"_auto3\"></div>\n",
    "\n",
    "$$\n",
    "\\begin{equation}\n",
    "f \\approx f_0 + \\beta y\n",
    "\\label{_auto3} \\tag{5}\n",
    "\\end{equation}\n",
    "$$"
   ]
  },
  {
   "cell_type": "markdown",
   "metadata": {},
   "source": [
    "where $f_0 = 2 \\Omega \\sin{(\\theta_0)}$, $\\beta = 2 \\Omega\n",
    "\\cos{(\\theta_0)}/R_e$ and $y = R_e (\\theta - \\theta_0)$, if $R_e$ is the\n",
    "Earth's radius. This linear representation is called the\n",
    "$\\beta$-plane approximation, and accounts for the $\\beta$ term in\n",
    "([1](#eq:Rossby1)).\n",
    "\n",
    "Thus the vorticity equation can be written in terms of one variable,\n",
    "the streamfunction, thus:"
   ]
  },
  {
   "cell_type": "markdown",
   "metadata": {},
   "source": [
    "<!-- Equation labels as ordinary links -->\n",
    "<div id=\"eq:Rossby\"></div>\n",
    "\n",
    "$$\n",
    "\\begin{equation}\n",
    "\\label{eq:Rossby} \\tag{6}\n",
    "\\boxed{\\partial_t \\nabla_H^2 \\psi  + \\beta \\partial_x\\psi = 0.}\n",
    " \\end{equation}\n",
    "$$"
   ]
  },
  {
   "cell_type": "markdown",
   "metadata": {},
   "source": [
    "This is the *barotropic Rossby wave equation*.\n",
    "\n",
    "\n",
    "We will examine analytic and numerical solutions to the vorticity\n",
    "equation in a *periodic domain* and a *closed domain*. A\n",
    "periodic domain is one that \"wraps around\", like the atmosphere. A\n",
    "closed domain has walls, like the continents bounding the oceans.\n",
    "\n",
    "## Analytical solutions\n",
    "\n",
    "### Project 5a): Solution to the Rossby equation in a periodic domain\n",
    "\n",
    "Consider the vorticity equation ([6](#eq:Rossby)) in one dimension\n",
    "(we'll add the second dimension later). Say the periodic domain\n",
    "extends from $x=[0,L]$ (east-west). A suitable wave solution has the\n",
    "form:"
   ]
  },
  {
   "cell_type": "markdown",
   "metadata": {},
   "source": [
    "<!-- Equation labels as ordinary links -->\n",
    "<div id=\"eq:Rossby5\"></div>\n",
    "\n",
    "$$\n",
    "\\begin{equation}\n",
    "\\label{eq:Rossby5} \\tag{7}\n",
    "\t\\psi = A \\cos{(\\frac{2n\\pi x}{L} - \\omega t)}, \n",
    "\\end{equation}\n",
    "$$"
   ]
  },
  {
   "cell_type": "markdown",
   "metadata": {},
   "source": [
    "where $n$ is an integer ($=1,2,\\cdots$), and where $\\omega$ is the\n",
    "wave frequency and $A$ is the amplitude.\n",
    "\n",
    "Show that the solution is the same at the two boundaries, so that it\n",
    "satisfies the periodic boundary conditions. Then use this wave solution\n",
    "in equation ([6](#eq:Rossby)) and solve for $\\omega$. Use the\n",
    "one-dimensional form for the vorticity:"
   ]
  },
  {
   "cell_type": "markdown",
   "metadata": {},
   "source": [
    "<!-- Equation labels as ordinary links -->\n",
    "<div id=\"eq:Rossby6\"></div>\n",
    "\n",
    "$$\n",
    "\\begin{equation}\n",
    "\\label{eq:Rossby6} \\tag{8}\n",
    "\t\\zeta = \\partial_x v = \\partial_{xx} \\psi\n",
    "\\end{equation}\n",
    "$$"
   ]
  },
  {
   "cell_type": "markdown",
   "metadata": {},
   "source": [
    "The result is known as the wave *dispersion relation*.\n",
    "\n",
    "The *phase speed* is the speed at which the Rossby waves move. To see how this comes about, consider the phase of the wave:"
   ]
  },
  {
   "cell_type": "markdown",
   "metadata": {},
   "source": [
    "<!-- Equation labels as ordinary links -->\n",
    "<div id=\"eq:Rossby7\"></div>\n",
    "\n",
    "$$\n",
    "\\begin{equation}\n",
    "\\label{eq:Rossby7} \\tag{9}\n",
    "\t\\theta = \\frac{n\\pi x}{L} - \\omega t.\n",
    "\\end{equation}\n",
    "$$"
   ]
  },
  {
   "cell_type": "markdown",
   "metadata": {},
   "source": [
    "For instance, if $\\theta=2\\pi$, then $\\psi = A\\cos{(2\\pi)} = A$. This is a maximum or \"high pressure\" point. To see how this moves, we solve ([9](#eq:Rossby7)) for $x$:"
   ]
  },
  {
   "cell_type": "markdown",
   "metadata": {},
   "source": [
    "<!-- Equation labels as ordinary links -->\n",
    "<div id=\"_auto4\"></div>\n",
    "\n",
    "$$\n",
    "\\begin{equation}\n",
    "\tx = \\frac{\\theta L}{2n\\pi} + \\frac{\\omega tL}{2n\\pi}.\n",
    "\\label{_auto4} \\tag{10}\n",
    "\\end{equation}\n",
    "$$"
   ]
  },
  {
   "cell_type": "markdown",
   "metadata": {},
   "source": [
    "Taking a time derivative, we obtain"
   ]
  },
  {
   "cell_type": "markdown",
   "metadata": {},
   "source": [
    "<!-- Equation labels as ordinary links -->\n",
    "<div id=\"_auto5\"></div>\n",
    "\n",
    "$$\n",
    "\\begin{equation}\n",
    "\tc = \\frac{dx}{dt} = \\frac{\\omega L}{2n\\pi}\n",
    "\\label{_auto5} \\tag{11}\n",
    "\\end{equation}\n",
    "$$"
   ]
  },
  {
   "cell_type": "markdown",
   "metadata": {},
   "source": [
    "Calculate the phase speed for the Rossby wave, using the dispersion relation. Which direction is the wave moving?\n",
    "\n",
    "\n",
    "### Project 5b): Solution to the Rossby equation with solid boundaries\n",
    "\n",
    "More appropriate boundary conditions for the ocean are no flow at the\n",
    "two end points. In the present problem, we can enforce this with\n",
    "simple Dirichlet conditions: $\\psi=0$ at $x=0$ and $x=L$. Use\n",
    "a wave solution with the form:"
   ]
  },
  {
   "cell_type": "markdown",
   "metadata": {},
   "source": [
    "<!-- Equation labels as ordinary links -->\n",
    "<div id=\"_auto6\"></div>\n",
    "\n",
    "$$\n",
    "\\begin{equation}\n",
    "\t\\psi = A(x)\\cos{(kx - \\omega t)}, \n",
    "\\label{_auto6} \\tag{12}\n",
    "\\end{equation}\n",
    "$$"
   ]
  },
  {
   "cell_type": "markdown",
   "metadata": {},
   "source": [
    "where $k$ is the wavenumber. Substitute this into equation\n",
    "([6](#eq:Rossby)). You'll obtain terms multiplied by $\\sin{(kx - \\omega\n",
    "t)}$ and others multiplied by $\\sin{(kx - \\omega t)}$. Set each of these\n",
    "expressions to zero. One will give you the dispersion relation for the\n",
    "waves. The other will give you the form for $A(x)$, which must satisfy\n",
    "the boundary conditions. You see that $k$ will be *quantized*:\n",
    "only specific values will be allowed.\n",
    "\n",
    "Waves like these are known as Rossby \"basin modes\". The phase speed\n",
    "can be calculated as in the preceding problem. What is it? Discuss the\n",
    "structure of the wave (which is unusual).\n",
    "\n",
    "\n",
    "## Numerical solution\n",
    "Now we consider solving equation ([6](#eq:Rossby)) numerically. This\n",
    "involves two steps. If we know the velocity or streamfunction\n",
    "initially, we can advance the vorticity in time to a new time. Then\n",
    "the streamfunction at the new time is found by inverting\n",
    "([3](#eq:Rossby2)). Having done this we may advance the vorticity to\n",
    "the next time level using ([6](#eq:Rossby)), and so forth. We note\n",
    "that ([6](#eq:Rossby)) is a *prognostic equation* and may\n",
    "therefore be solved numerically using a time stepping method. In\n",
    "contrast, ([3](#eq:Rossby2)) is a *diagnostic equation*. We will\n",
    "solve this using an elliptic solver.\n",
    "\n",
    "To discretize the equations, we assume a grid of equally-spaced\n",
    "points:"
   ]
  },
  {
   "cell_type": "markdown",
   "metadata": {},
   "source": [
    "<!-- Equation labels as ordinary links -->\n",
    "<div id=\"_auto7\"></div>\n",
    "\n",
    "$$\n",
    "\\begin{equation}\n",
    "x_j = j\\Delta x\n",
    "\\label{_auto7} \\tag{13}\n",
    "\\end{equation}\n",
    "$$"
   ]
  },
  {
   "cell_type": "markdown",
   "metadata": {},
   "source": [
    "where $\\Delta x$ is the grid spacing. We discretize time in a similar way:"
   ]
  },
  {
   "cell_type": "markdown",
   "metadata": {},
   "source": [
    "<!-- Equation labels as ordinary links -->\n",
    "<div id=\"_auto8\"></div>\n",
    "\n",
    "$$\n",
    "\\begin{equation}\n",
    "t^n = n\\Delta t\n",
    "\\label{_auto8} \\tag{14}\n",
    "\\end{equation}\n",
    "$$"
   ]
  },
  {
   "cell_type": "markdown",
   "metadata": {},
   "source": [
    "where $\\Delta t$ is the time step. Thus $t^0=0$, $t^1=\\Delta t$, and so on.\n",
    "\n",
    "We then approximate the derivatives by finite differences. For\n",
    "the spatial derivatives, we use centered-differences:"
   ]
  },
  {
   "cell_type": "markdown",
   "metadata": {},
   "source": [
    "<!-- Equation labels as ordinary links -->\n",
    "<div id=\"_auto9\"></div>\n",
    "\n",
    "$$\n",
    "\\begin{equation}\n",
    "\t\\partial_x\\psi \\approx \\frac{\\psi_{j+1}^{n} - \\psi_{j-1}^{n}}{2\\Delta x}, \n",
    "\\label{_auto9} \\tag{15}\n",
    "\\end{equation}\n",
    "$$"
   ]
  },
  {
   "cell_type": "markdown",
   "metadata": {},
   "source": [
    "<!-- Equation labels as ordinary links -->\n",
    "<div id=\"_auto10\"></div>\n",
    "\n",
    "$$\n",
    "\\begin{equation} \n",
    "\t\\partial_{xx}\\psi \\approx \\frac{\\psi_{j+1}^{n} - 2\\psi_{j}^{n} + \\psi_{j-1}^{n}}{\\Delta x^2},\n",
    "\\label{_auto10} \\tag{16}\n",
    "\\end{equation}\n",
    "$$"
   ]
  },
  {
   "cell_type": "markdown",
   "metadata": {},
   "source": [
    "For the time stepping, we will test two methods. One involves a\n",
    "forward difference:"
   ]
  },
  {
   "cell_type": "markdown",
   "metadata": {},
   "source": [
    "<!-- Equation labels as ordinary links -->\n",
    "<div id=\"eq:Rossby3\"></div>\n",
    "\n",
    "$$\n",
    "\\begin{equation}\n",
    "\\label{eq:Rossby3} \\tag{17}\n",
    "  \\partial_t\\psi \\approx \\frac{\\psi_{j}^{n+1} - \\psi_{j}^{n}}{\\Delta t} ,\n",
    "\\end{equation}\n",
    "$$"
   ]
  },
  {
   "cell_type": "markdown",
   "metadata": {},
   "source": [
    "while the second involves a centered difference:"
   ]
  },
  {
   "cell_type": "markdown",
   "metadata": {},
   "source": [
    "<!-- Equation labels as ordinary links -->\n",
    "<div id=\"eq:Rossby4\"></div>\n",
    "\n",
    "$$\n",
    "\\begin{equation}\n",
    "\\label{eq:Rossby4} \\tag{18}\n",
    "\t\\partial_t\\psi \\approx \\frac{\\psi_{j}^{n+1} - \\psi_{j}^{n-1}}{2\\Delta t}.\n",
    "\\end{equation}\n",
    "$$"
   ]
  },
  {
   "cell_type": "markdown",
   "metadata": {},
   "source": [
    "### Project 5c): Setting up the algorithms\n",
    "\n",
    "Now we will examine \n",
    "numerical solutions in one dimension in the east-west\n",
    "direction. When calculating these, it is convenient to use\n",
    "*non-dimensional* forms of the equations:"
   ]
  },
  {
   "cell_type": "markdown",
   "metadata": {},
   "source": [
    "<!-- Equation labels as ordinary links -->\n",
    "<div id=\"_auto11\"></div>\n",
    "\n",
    "$$\n",
    "\\begin{equation}\n",
    "\t\\partial_t\\zeta + \\partial_x\\psi = 0. \n",
    "\\label{_auto11} \\tag{19}\n",
    "\\end{equation}\n",
    "$$"
   ]
  },
  {
   "cell_type": "markdown",
   "metadata": {},
   "source": [
    "<!-- Equation labels as ordinary links -->\n",
    "<div id=\"_auto12\"></div>\n",
    "\n",
    "$$\n",
    "\\begin{equation} \n",
    "\t\\partial_{xx}\\psi = \\zeta.\n",
    "\\label{_auto12} \\tag{20}\n",
    "\\end{equation}\n",
    "$$"
   ]
  },
  {
   "cell_type": "markdown",
   "metadata": {},
   "source": [
    "These are obtained by *scaling* each term by typical values.\n",
    "Doing this, the domain extends from $x=0$ to $x=1$, which is\n",
    "much simpler than worrying about realistic sizes.   For the latter equation you can use your code from project 1. \n",
    "\n",
    "For the boundary conditions, we'll consider both the periodic\n",
    "domain (that wraps around) and the bounded domain (with solid\n",
    "walls). For the bounded domain, the streamfunction is zero at the\n",
    "ends, while for the periodic one the boundary values can vary.\n",
    "\n",
    "Write the algorithms for the two time-stepping methods and the\n",
    "equations you need to implement for the one-dimensional case,\n",
    "including the numerical analogues of the boundary conditions.\n",
    "\n",
    "\n",
    "### Project 5d): Truncation errors and stability\n",
    "\n",
    "Determine the truncation errors of the two time-stepping schemes\n",
    "and investigate their stability properties. What do you conclude\n",
    "about the two schemes? What is the stability criterion for the\n",
    "stable algorithm.\n",
    "\n",
    "\n",
    "### Project 5e): Implementation\n",
    "\n",
    "Now we'll implement the model, using both time-stepping schemes.\n",
    "Hereafter we'll use two (non-dimensional) initial\n",
    "conditions, a sine wave:"
   ]
  },
  {
   "cell_type": "markdown",
   "metadata": {},
   "source": [
    "<!-- Equation labels as ordinary links -->\n",
    "<div id=\"_auto13\"></div>\n",
    "\n",
    "$$\n",
    "\\begin{equation}\n",
    "\\psi(x,0) = \\sin{\\left( 4\\pi x \\right)}\n",
    "\\label{_auto13} \\tag{21}\n",
    "\\end{equation}\n",
    "$$"
   ]
  },
  {
   "cell_type": "markdown",
   "metadata": {},
   "source": [
    "and a Gaussian:"
   ]
  },
  {
   "cell_type": "markdown",
   "metadata": {},
   "source": [
    "<!-- Equation labels as ordinary links -->\n",
    "<div id=\"_auto14\"></div>\n",
    "\n",
    "$$\n",
    "\\begin{equation}\n",
    "\\psi = \\exp{-\\left(\\frac{x-x0}{\\sigma}\\right)^2},\n",
    "\\label{_auto14} \\tag{22}\n",
    "\\end{equation}\n",
    "$$"
   ]
  },
  {
   "cell_type": "markdown",
   "metadata": {},
   "source": [
    "Here $\\sigma = 0.1$ the width of the Gaussian.\n",
    "\n",
    "Compare the time-stepping routines, using the sine wave in the\n",
    "periodic domain. Use $\\Delta x=1/40$ and $\\Delta t$ as determined from the\n",
    "results of (5d). Store the results at three times, in addition to the\n",
    "initial condition, e.g. $t=0$, $t=50$, $t=100$ and $t=150$.  Is one of the\n",
    "time-stepping routines better than the other?\n",
    "\n",
    "\n",
    "### Project 5f): Visualization and discussion\n",
    "\n",
    "Now we'll examine a suite of solutions, using the stable time-stepping\n",
    "algorithm. Consider the following:\n",
    "\n",
    "a) Calculate the phase speed of the sine wave in the periodic domain.\n",
    "Do this by using a *Hovmuller diagram*.  For this you construct a\n",
    "matrix with $\\psi(x,t)$ at different times. $t=0$ can be on the bottom\n",
    "row, then $t=\\Delta t$ in the next row, $t=2\\Delta t$ in the next and\n",
    "so. Contour the matrix and extract the phase speed. How does it\n",
    "compare to the theoretical prediction in (5a)?\n",
    "\n",
    "b) Now consider the sine wave in the bounded domain. How does this\n",
    "evolve differently? Rationalize the results using the theoretical\n",
    "prediction from (5b).\n",
    "\n",
    "c) Now examine the Gaussian, in the periodic domain. How does the\n",
    "Hovmuller diagram differ? Can you find a phase speed? Try varying\n",
    "the width, $\\sigma$. How does this affect the phase speed.\n",
    "\n",
    "d) Lastly, describe the evolution of the Gaussian in the bounded\n",
    "domain. How does this compare to the sine wave in the same domain?\n",
    "\n",
    "\n",
    "### Project 5g): Moving to two dimensions\n",
    "\n",
    "Extend the code you have developed here to two dimensions, that is,\n",
    "$\\psi = \\psi(x,y,t)$ and $\\zeta = \\zeta(x,y,t)$. It means that we deal\n",
    "with a $2+1$ dimensional problem. Our differential equations become"
   ]
  },
  {
   "cell_type": "markdown",
   "metadata": {},
   "source": [
    "<!-- Equation labels as ordinary links -->\n",
    "<div id=\"eq:Rossby10\"></div>\n",
    "\n",
    "$$\n",
    "\\begin{equation}\n",
    "\\label{eq:Rossby10} \\tag{23}\n",
    "\t\\partial_t\\zeta + \\partial_x\\psi = 0, \\quad \\textrm{$t > 0$ and} \\quad x,y\\in [0,1],\n",
    "\\end{equation}\n",
    "$$"
   ]
  },
  {
   "cell_type": "markdown",
   "metadata": {},
   "source": [
    "and"
   ]
  },
  {
   "cell_type": "markdown",
   "metadata": {},
   "source": [
    "<!-- Equation labels as ordinary links -->\n",
    "<div id=\"eq:Rossby11\"></div>\n",
    "\n",
    "$$\n",
    "\\begin{equation}\n",
    "\\label{eq:Rossby11} \\tag{24}\n",
    "\t\\left( \\partial_{xx}\\psi + \\partial_{yy}\\psi \\right) = \\zeta, \\quad \\textrm{$t > 0$ and} \\quad x,y\\in [0,1],\n",
    "\\end{equation}\n",
    "$$"
   ]
  },
  {
   "cell_type": "markdown",
   "metadata": {},
   "source": [
    "where we now have made a model with a square lattice for $x$ and $y$. The last equation is just another example of Poisson's equation which can be solved by Jacobi's method, or the Gauss-Seidel method or the so-called Successive Over Relaxation method discussed in chapters 6 and 10 of the lecture notes.\n",
    "\n",
    "How would you extend the boundary conditions from one dimension to two\n",
    "dimensions? And can you find a closed form solution here as well?  It\n",
    "is left to you to decide upon what kind of boundary conditions you\n",
    "deem appropriate.\n",
    "\n",
    "### Project 5h): Solving the two-dimensional equations numerically\n",
    "\n",
    "Use an explicit scheme for ([23](#eq:Rossby10)). To solve\n",
    "([24](#eq:Rossby11)) you need to use for example an iterative method\n",
    "like Jacobi's or Gauss-Seidel method or the Successive Over Relaxation (SOR) method. These methods are described in the lecture notes, see chapters 6 and 10.\n",
    "\n",
    "Outline the algorithm for solving the two-dimensional equations and\n",
    "implement the scheme as function of $\\Delta x$ (assuming $\\Delta x =\n",
    "\\Delta y$) and $\\Delta t$. Solve the equations numerically and give a\n",
    "critical discussion of your results. Compare your results with the\n",
    "closed-form answer if possible. Discuss the stability of the solution\n",
    "as function of different values of $\\Delta x$ and $\\Delta t$.\n",
    "\n",
    "\n",
    "### References\n",
    "\n",
    "A very good reference is the textbook by [Winther and Tveito on partial differential equations](http://www.springer.com/us/book/9783540225515). It is available online [from the University library](https://vpn2.uio.no/+CSCO+0h756767633A2F2F797661782E66636576617472652E70627A++/book/10.1007/b138016/page/1).\n",
    "\n",
    "\n",
    "## Introduction to numerical projects\n",
    "\n",
    "Here follows a brief recipe and recommendation on how to write a report for each\n",
    "project.\n",
    "\n",
    "  * Give a short description of the nature of the problem and the eventual  numerical methods you have used.\n",
    "\n",
    "  * Describe the algorithm you have used and/or developed. Here you may find it convenient to use pseudocoding. In many cases you can describe the algorithm in the program itself.\n",
    "\n",
    "  * Include the source code of your program. Comment your program properly.\n",
    "\n",
    "  * If possible, try to find analytic solutions, or known limits in order to test your program when developing the code.\n",
    "\n",
    "  * Include your results either in figure form or in a table. Remember to        label your results. All tables and figures should have relevant captions        and labels on the axes.\n",
    "\n",
    "  * Try to evaluate the reliabilty and numerical stability/precision of your results. If possible, include a qualitative and/or quantitative discussion of the numerical stability, eventual loss of precision etc.\n",
    "\n",
    "  * Try to give an interpretation of you results in your answers to  the problems.\n",
    "\n",
    "  * Critique: if possible include your comments and reflections about the  exercise, whether you felt you learnt something, ideas for improvements and  other thoughts you've made when solving the exercise. We wish to keep this course at the interactive level and your comments can help us improve it.\n",
    "\n",
    "  * Try to establish a practice where you log your work at the  computerlab. You may find such a logbook very handy at later stages in your work, especially when you don't properly remember  what a previous test version  of your program did. Here you could also record  the time spent on solving the exercise, various algorithms you may have tested or other topics which you feel worthy of mentioning.\n",
    "\n",
    "## Format for electronic delivery of report and programs\n",
    "\n",
    "The preferred format for the report is a PDF file. You can also use DOC or postscript formats or as an ipython notebook file.  As programming language we prefer that you choose between C/C++, Fortran2008 or Python. The following prescription should be followed when preparing the report:\n",
    "\n",
    "  * Use **Canvas** to hand in your projects, log in  at  <https://www.uio.no/english/services/it/education/canvas/> with your normal UiO username and password.\n",
    "\n",
    "  * Upload **only** the report file!  For the source code file(s) you have developed please provide us with your link to your github domain.  The report file should include all of your discussions and a list of the codes you have developed.  Do not include library files which are available at the course homepage, unless you have made specific changes to them. Alternatively, you can just upload the address to your GitHub or GitLab repository.\n",
    "\n",
    "  * In your git repository, please include a folder which contains selected results. These can be in the form of output from your code for a selected set of runs and input parameters.\n",
    "\n",
    "  * In this and all later projects, you should include tests (for example unit tests) of your code(s).\n",
    "\n",
    "  * Comments  from us on your projects, approval or not, corrections to be made  etc can be found under your **Canvas** domain and are only visible to you and the teachers of the course.\n",
    "\n",
    "Finally, \n",
    "we encourage you to work two and two together. Optimal working groups consist of \n",
    "2-3 students. You can then hand in a common report."
   ]
  }
 ],
 "metadata": {},
 "nbformat": 4,
 "nbformat_minor": 4
}
